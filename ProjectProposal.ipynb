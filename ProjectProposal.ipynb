{
 "cells": [
  {
   "cell_type": "markdown",
   "metadata": {},
   "source": [
    "# STAT Group 20 Project Proposal\n",
    "\n"
   ]
  },
  {
   "cell_type": "markdown",
   "metadata": {},
   "source": [
    "<br>Alan Zhang \n",
    "<br>Sneh Agarwal\n",
    "<br>Taniya Cai\n",
    "<br>Waxin Luo"
   ]
  },
  {
   "cell_type": "markdown",
   "metadata": {},
   "source": [
    "### Preliminary Results"
   ]
  },
  {
   "cell_type": "code",
   "execution_count": 1,
   "metadata": {},
   "outputs": [
    {
     "name": "stderr",
     "output_type": "stream",
     "text": [
      "Warning message in system(\"timedatectl\", intern = TRUE):\n",
      "“running command 'timedatectl' had status 1”\n",
      "── \u001b[1mAttaching packages\u001b[22m ─────────────────────────────────────── tidyverse 1.3.1 ──\n",
      "\n",
      "\u001b[32m✔\u001b[39m \u001b[34mggplot2\u001b[39m 3.3.5     \u001b[32m✔\u001b[39m \u001b[34mpurrr  \u001b[39m 0.3.4\n",
      "\u001b[32m✔\u001b[39m \u001b[34mtibble \u001b[39m 3.1.6     \u001b[32m✔\u001b[39m \u001b[34mdplyr  \u001b[39m 1.0.7\n",
      "\u001b[32m✔\u001b[39m \u001b[34mtidyr  \u001b[39m 1.1.4     \u001b[32m✔\u001b[39m \u001b[34mstringr\u001b[39m 1.4.0\n",
      "\u001b[32m✔\u001b[39m \u001b[34mreadr  \u001b[39m 2.1.1     \u001b[32m✔\u001b[39m \u001b[34mforcats\u001b[39m 0.5.1\n",
      "\n",
      "── \u001b[1mConflicts\u001b[22m ────────────────────────────────────────── tidyverse_conflicts() ──\n",
      "\u001b[31m✖\u001b[39m \u001b[34mdplyr\u001b[39m::\u001b[32mfilter()\u001b[39m masks \u001b[34mstats\u001b[39m::filter()\n",
      "\u001b[31m✖\u001b[39m \u001b[34mdplyr\u001b[39m::\u001b[32mlag()\u001b[39m    masks \u001b[34mstats\u001b[39m::lag()\n",
      "\n"
     ]
    },
    {
     "ename": "ERROR",
     "evalue": "Error in library(tidymodels): there is no package called ‘tidymodels’\n",
     "output_type": "error",
     "traceback": [
      "Error in library(tidymodels): there is no package called ‘tidymodels’\nTraceback:\n",
      "1. library(tidymodels)"
     ]
    }
   ],
   "source": [
    "library(repr)\n",
    "library(tidyverse)\n",
    "library(tidymodels)\n",
    "library(dplyr)\n",
    "library(grid)"
   ]
  },
  {
   "cell_type": "markdown",
   "metadata": {},
   "source": [
    "The first step is to download the dataset zip file from the website, unzip the files, and load the dataset into R. We name the dataset as bike."
   ]
  },
  {
   "cell_type": "code",
   "execution_count": null,
   "metadata": {},
   "outputs": [],
   "source": [
    "dir.create(\"data\")\n",
    "url <- \"https://archive.ics.uci.edu/ml/machine-learning-databases/00275/Bike-Sharing-Dataset.zip\"\n",
    "download.file(url,\"data/Bike-Sharing-Dataset.zip\")\n",
    "unzip(\"data/Bike-Sharing-Dataset.zip\", files=\"day.csv\", exdir=\"data/\")\n",
    "bike <- read_csv(\"data/day.csv\") \n",
    "head(bike)\n",
    "print(\"Table 1\")"
   ]
  },
  {
   "cell_type": "markdown",
   "metadata": {},
   "source": [
    "The table 1 is the fist 6 rows of the dataset. Then we select the columns required for our analysis."
   ]
  },
  {
   "cell_type": "code",
   "execution_count": null,
   "metadata": {},
   "outputs": [],
   "source": [
    "bike <- bike %>%\n",
    " select(season, cnt)\n",
    "print(\"Table 2\")\n",
    "head(bike)"
   ]
  },
  {
   "cell_type": "markdown",
   "metadata": {},
   "source": [
    "In the table 2, we notice that Season is a numerical variable here, so we need to change it to categorical variable."
   ]
  },
  {
   "cell_type": "code",
   "execution_count": 2,
   "metadata": {},
   "outputs": [
    {
     "ename": "ERROR",
     "evalue": "Error in is.factor(x): object 'bike' not found\n",
     "output_type": "error",
     "traceback": [
      "Error in is.factor(x): object 'bike' not found\nTraceback:\n",
      "1. as.factor(bike$season)",
      "2. is.factor(x)"
     ]
    }
   ],
   "source": [
    "bike$season <- as.factor(bike$season)"
   ]
  },
  {
   "cell_type": "markdown",
   "metadata": {},
   "source": [
    "In order to campare the distribution of the count of rental bikes for four different seasons, we plot the side-by-side boxplot here."
   ]
  },
  {
   "cell_type": "code",
   "execution_count": 3,
   "metadata": {},
   "outputs": [
    {
     "ename": "ERROR",
     "evalue": "Error in ggplot(., aes(x = season, y = cnt, fill = season)): object 'bike' not found\n",
     "output_type": "error",
     "traceback": [
      "Error in ggplot(., aes(x = season, y = cnt, fill = season)): object 'bike' not found\nTraceback:\n",
      "1. bike %>% ggplot(aes(x = season, y = cnt, fill = season))",
      "2. ggplot(., aes(x = season, y = cnt, fill = season))"
     ]
    }
   ],
   "source": [
    "boxplots <- bike %>%  \n",
    "          ggplot(aes(x = season, y = cnt, fill = season)) + \n",
    "          stat_boxplot(geom ='errorbar') + \n",
    "          geom_boxplot() + \n",
    "          labs(x = \"Season\", y = \"Daily Count of Total Rental Bikes\", \n",
    "               title = \"Boxplots of Daily Count of Total Rental Bikes for Four Seasons\",\n",
    "               subtitle = \"Figure 1\") +\n",
    "          theme(text = element_text(size=20)) +\n",
    "          scale_fill_discrete(name = \"Season\", labels = c(\"winter\", \"spring\", \"summer\", \"fall\"))\n",
    "options(repr.plot.height = 6, repr.plot.width = 10)\n",
    "boxplots"
   ]
  },
  {
   "cell_type": "code",
   "execution_count": 4,
   "metadata": {},
   "outputs": [
    {
     "ename": "ERROR",
     "evalue": "Error in group_by(., season): object 'bike' not found\n",
     "output_type": "error",
     "traceback": [
      "Error in group_by(., season): object 'bike' not found\nTraceback:\n",
      "1. bike %>% group_by(season) %>% summarize(n = n(), Average_Count = mean(cnt), \n .     Median_Count = median(cnt), Standard_Dev = sd(cnt), IQR = quantile(cnt, \n .         0.75) - quantile(cnt, 0.25), min = min(cnt), max = max(cnt))",
      "2. summarize(., n = n(), Average_Count = mean(cnt), Median_Count = median(cnt), \n .     Standard_Dev = sd(cnt), IQR = quantile(cnt, 0.75) - quantile(cnt, \n .         0.25), min = min(cnt), max = max(cnt))",
      "3. group_by(., season)"
     ]
    }
   ],
   "source": [
    "bike_summary <- bike %>% \n",
    "     group_by(season) %>% \n",
    "     summarize(n = n(), Average_Count = mean(cnt), Median_Count = median(cnt), Standard_Dev = sd(cnt),\n",
    "               IQR = quantile(cnt, 0.75) - quantile(cnt, 0.25), min = min(cnt), max = max(cnt))\n",
    "print(\"Table 4\")\n",
    "bike_summary"
   ]
  },
  {
   "cell_type": "markdown",
   "metadata": {},
   "source": [
    "The Table 4 provides an exhaustive list of summary statistics of the daily cont for four seasons to help us to have a better understanding of the datasets. We included Number of Data Points, Median of Daily Count, Mean of Daily Count, Standard Deviation Daily Count, Interquartile Range of Daily Count (0.25 Quartile ~ 0.75 Quartile), Minimum Daily Count, Maximum Daily Count."
   ]
  },
  {
   "cell_type": "markdown",
   "metadata": {},
   "source": [
    "### Methods: Plan"
   ]
  },
  {
   "cell_type": "markdown",
   "metadata": {},
   "source": [
    "The report on the \"bike\" dataset is clean and wrangled which makes it easy to understand. The report uses only selected columns, 'season' and 'cnt' to give a generalized idea about the effect all factors as season is an overall generalized variable. Preliminary analysis on that data is conducted for a number of parameters which gives in-depth information about the data collected. Further, the report and analysis conducted is reproducible and hence trustworthy.\n",
    "\n",
    "Our dataset only includes bike-sharing data from the metro area of Washington DC. We will treat this data as a sample and use it to predict the 'Average Count' of bikes rented during different temperature ranges around the world. We will use bootstrapping to approach this question and perform our analysis. We will also display the change in the bootstrapping distribution as the sample size increases using asymptotic analysis."
   ]
  },
  {
   "cell_type": "markdown",
   "metadata": {},
   "source": [
    "The plot produced is not enough as it shows the difference in average bikes rented during different seasons in metro Washington DC using box-plots. We will investigate specific factors like temperature and use histograms, gradually increasing the sample size taken, to display the asymptotic affect and correctly predict the parameter of interest, i.e. 'Average Count' at different temperatures. For hypothesis testing , we will use 'average count' as our parameter. We will try to estimate using a 95% confidence interval.\n",
    "\n",
    "**What do you expect to find?**\n",
    "- The 'Average Count' of bikes rented per day across the world based on different temperatures.\n",
    "\n",
    "**What impact could such findings have?**\n",
    "- Increase in availability of bikes at temperatures when average count of bikes rented is high.\n",
    "- Determining the pollution level given temperatures during a day.\n",
    "- Initiating bike-sharing system in countries where its beneficial given year-round temperature ranges.\n",
    "\n",
    "**What future questions could this lead to?**\n",
    "- Does the same season have the same affect to the number of bikes rented during a day across the world?\n",
    "- How can we maximize the number of bikes rented during a day?"
   ]
  },
  {
   "cell_type": "markdown",
   "metadata": {},
   "source": [
    "### References"
   ]
  },
  {
   "cell_type": "markdown",
   "metadata": {},
   "source": []
  }
 ],
 "metadata": {
  "kernelspec": {
   "display_name": "R",
   "language": "R",
   "name": "ir"
  },
  "language_info": {
   "codemirror_mode": "r",
   "file_extension": ".r",
   "mimetype": "text/x-r-source",
   "name": "R",
   "pygments_lexer": "r",
   "version": "4.1.2"
  }
 },
 "nbformat": 4,
 "nbformat_minor": 4
}
