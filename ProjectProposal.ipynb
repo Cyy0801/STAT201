{
 "cells": [
  {
   "cell_type": "markdown",
   "metadata": {},
   "source": [
    "# STAT Group 20 Project Proposal\n",
    "\n"
    ]
  },
  {
   "cell_type": "markdown",
   "metadata": {},
   "source": [
    "The amount of payments may be associated with the age of a person (young adults and seniors often have weaker financial abilities due to lack of work experience and retirement respectively). Default happens when card owners do not make their payment, which should directly relate to the owner’s past payment status. The scatter plot helps analyze the relationship between age and average history of monthly past payments, and their combined effect on predicting whether a credit card will default through classification."
   ]
  }
 ],
 "metadata": {
  "kernelspec": {
   "display_name": "R",
   "language": "R",
   "name": "ir"
  },
  "language_info": {
   "codemirror_mode": "r",
   "file_extension": ".r",
   "mimetype": "text/x-r-source",
   "name": "R",
   "pygments_lexer": "r",
   "version": "4.0.0"
  }
 },
 "nbformat": 4,
 "nbformat_minor": 4
}