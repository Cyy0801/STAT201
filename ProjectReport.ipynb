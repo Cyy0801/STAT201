{
 "cells": [
  {
   "cell_type": "markdown",
   "metadata": {},
   "source": [
    "# STAT 201 Project Proposal Group 20\n",
    "\n"
   ]
  },
  {
   "cell_type": "markdown",
   "metadata": {},
   "source": [
    "Group members:\n",
    "<br>Alan Zhang \n",
    "<br>Sneh Agarwal\n",
    "<br>Taniya Cai\n",
    "<br>Waxin Luo"
   ]
  },
  {
   "cell_type": "markdown",
   "metadata": {},
   "source": [
    "### Introduction\n",
    "\n",
    "Recently, bike-sharing systems have increasing popularity as a means of efficient transportation in urban areas. Its users are able to rent a bicycle from a convenient depot location, and return it at another one close to the user's destination. The ubiquity of such programs has therefore generated investigation and analysis of quantifiable data for further effectiveness. Capital Bikeshare is one such bike-sharing system, that serves the Washington D.C. metropolitan area, and publishes yearly anonymized statistics, including the daily usage times (Capital Bikeshare).\n",
    "\n",
    "One particular parameter of interest is the normalized frequency of users during different temperatures and days for bike-sharing systems. This would gauge demand, and so would be useful for possible seasonal or monthly availability decisions. The scale parameter of interest is standard deviation as it is representative of the degree of fluctuation in bike availability of the system (Institute for Operations Research and the Management Sciences, 2020)."
   ]
  },
  {
   "cell_type": "markdown",
   "metadata": {},
   "source": [
    "### Preliminary Results"
   ]
  },
  {
   "cell_type": "code",
   "execution_count": 27,
   "metadata": {},
   "outputs": [],
   "source": [
    "library(repr)\n",
    "library(tidyverse)\n",
    "library(dplyr)\n",
    "library(grid)"
   ]
  },
  {
   "cell_type": "markdown",
   "metadata": {},
   "source": [
    "The first step is to download the dataset zip file from the website, unzip the files, and load the dataset into R. We name the dataset as bike."
   ]
  },
  {
   "cell_type": "code",
   "execution_count": 28,
   "metadata": {},
   "outputs": [
    {
     "name": "stderr",
     "output_type": "stream",
     "text": [
      "Warning message in dir.create(\"data\"):\n",
      "“'data' already exists”\n",
      "\u001b[1mRows: \u001b[22m\u001b[34m731\u001b[39m \u001b[1mColumns: \u001b[22m\u001b[34m16\u001b[39m\n",
      "\n",
      "\u001b[36m──\u001b[39m \u001b[1mColumn specification\u001b[22m \u001b[36m────────────────────────────────────────────────────────\u001b[39m\n",
      "\u001b[1mDelimiter:\u001b[22m \",\"\n",
      "\u001b[32mdbl\u001b[39m  (15): instant, season, yr, mnth, holiday, weekday, workingday, weathers...\n",
      "\u001b[34mdate\u001b[39m  (1): dteday\n",
      "\n",
      "\n",
      "\u001b[36mℹ\u001b[39m Use \u001b[30m\u001b[47m\u001b[30m\u001b[47m`spec()`\u001b[47m\u001b[30m\u001b[49m\u001b[39m to retrieve the full column specification for this data.\n",
      "\u001b[36mℹ\u001b[39m Specify the column types or set \u001b[30m\u001b[47m\u001b[30m\u001b[47m`show_col_types = FALSE`\u001b[47m\u001b[30m\u001b[49m\u001b[39m to quiet this message.\n",
      "\n"
     ]
    },
    {
     "data": {
      "text/html": [
       "<table class=\"dataframe\">\n",
       "<caption>A tibble: 6 × 16</caption>\n",
       "<thead>\n",
       "\t<tr><th scope=col>instant</th><th scope=col>dteday</th><th scope=col>season</th><th scope=col>yr</th><th scope=col>mnth</th><th scope=col>holiday</th><th scope=col>weekday</th><th scope=col>workingday</th><th scope=col>weathersit</th><th scope=col>temp</th><th scope=col>atemp</th><th scope=col>hum</th><th scope=col>windspeed</th><th scope=col>casual</th><th scope=col>registered</th><th scope=col>cnt</th></tr>\n",
       "\t<tr><th scope=col>&lt;dbl&gt;</th><th scope=col>&lt;date&gt;</th><th scope=col>&lt;dbl&gt;</th><th scope=col>&lt;dbl&gt;</th><th scope=col>&lt;dbl&gt;</th><th scope=col>&lt;dbl&gt;</th><th scope=col>&lt;dbl&gt;</th><th scope=col>&lt;dbl&gt;</th><th scope=col>&lt;dbl&gt;</th><th scope=col>&lt;dbl&gt;</th><th scope=col>&lt;dbl&gt;</th><th scope=col>&lt;dbl&gt;</th><th scope=col>&lt;dbl&gt;</th><th scope=col>&lt;dbl&gt;</th><th scope=col>&lt;dbl&gt;</th><th scope=col>&lt;dbl&gt;</th></tr>\n",
       "</thead>\n",
       "<tbody>\n",
       "\t<tr><td>1</td><td>2011-01-01</td><td>1</td><td>0</td><td>1</td><td>0</td><td>6</td><td>0</td><td>2</td><td>0.344167</td><td>0.363625</td><td>0.805833</td><td>0.1604460</td><td>331</td><td> 654</td><td> 985</td></tr>\n",
       "\t<tr><td>2</td><td>2011-01-02</td><td>1</td><td>0</td><td>1</td><td>0</td><td>0</td><td>0</td><td>2</td><td>0.363478</td><td>0.353739</td><td>0.696087</td><td>0.2485390</td><td>131</td><td> 670</td><td> 801</td></tr>\n",
       "\t<tr><td>3</td><td>2011-01-03</td><td>1</td><td>0</td><td>1</td><td>0</td><td>1</td><td>1</td><td>1</td><td>0.196364</td><td>0.189405</td><td>0.437273</td><td>0.2483090</td><td>120</td><td>1229</td><td>1349</td></tr>\n",
       "\t<tr><td>4</td><td>2011-01-04</td><td>1</td><td>0</td><td>1</td><td>0</td><td>2</td><td>1</td><td>1</td><td>0.200000</td><td>0.212122</td><td>0.590435</td><td>0.1602960</td><td>108</td><td>1454</td><td>1562</td></tr>\n",
       "\t<tr><td>5</td><td>2011-01-05</td><td>1</td><td>0</td><td>1</td><td>0</td><td>3</td><td>1</td><td>1</td><td>0.226957</td><td>0.229270</td><td>0.436957</td><td>0.1869000</td><td> 82</td><td>1518</td><td>1600</td></tr>\n",
       "\t<tr><td>6</td><td>2011-01-06</td><td>1</td><td>0</td><td>1</td><td>0</td><td>4</td><td>1</td><td>1</td><td>0.204348</td><td>0.233209</td><td>0.518261</td><td>0.0895652</td><td> 88</td><td>1518</td><td>1606</td></tr>\n",
       "</tbody>\n",
       "</table>\n"
      ],
      "text/latex": [
       "A tibble: 6 × 16\n",
       "\\begin{tabular}{llllllllllllllll}\n",
       " instant & dteday & season & yr & mnth & holiday & weekday & workingday & weathersit & temp & atemp & hum & windspeed & casual & registered & cnt\\\\\n",
       " <dbl> & <date> & <dbl> & <dbl> & <dbl> & <dbl> & <dbl> & <dbl> & <dbl> & <dbl> & <dbl> & <dbl> & <dbl> & <dbl> & <dbl> & <dbl>\\\\\n",
       "\\hline\n",
       "\t 1 & 2011-01-01 & 1 & 0 & 1 & 0 & 6 & 0 & 2 & 0.344167 & 0.363625 & 0.805833 & 0.1604460 & 331 &  654 &  985\\\\\n",
       "\t 2 & 2011-01-02 & 1 & 0 & 1 & 0 & 0 & 0 & 2 & 0.363478 & 0.353739 & 0.696087 & 0.2485390 & 131 &  670 &  801\\\\\n",
       "\t 3 & 2011-01-03 & 1 & 0 & 1 & 0 & 1 & 1 & 1 & 0.196364 & 0.189405 & 0.437273 & 0.2483090 & 120 & 1229 & 1349\\\\\n",
       "\t 4 & 2011-01-04 & 1 & 0 & 1 & 0 & 2 & 1 & 1 & 0.200000 & 0.212122 & 0.590435 & 0.1602960 & 108 & 1454 & 1562\\\\\n",
       "\t 5 & 2011-01-05 & 1 & 0 & 1 & 0 & 3 & 1 & 1 & 0.226957 & 0.229270 & 0.436957 & 0.1869000 &  82 & 1518 & 1600\\\\\n",
       "\t 6 & 2011-01-06 & 1 & 0 & 1 & 0 & 4 & 1 & 1 & 0.204348 & 0.233209 & 0.518261 & 0.0895652 &  88 & 1518 & 1606\\\\\n",
       "\\end{tabular}\n"
      ],
      "text/markdown": [
       "\n",
       "A tibble: 6 × 16\n",
       "\n",
       "| instant &lt;dbl&gt; | dteday &lt;date&gt; | season &lt;dbl&gt; | yr &lt;dbl&gt; | mnth &lt;dbl&gt; | holiday &lt;dbl&gt; | weekday &lt;dbl&gt; | workingday &lt;dbl&gt; | weathersit &lt;dbl&gt; | temp &lt;dbl&gt; | atemp &lt;dbl&gt; | hum &lt;dbl&gt; | windspeed &lt;dbl&gt; | casual &lt;dbl&gt; | registered &lt;dbl&gt; | cnt &lt;dbl&gt; |\n",
       "|---|---|---|---|---|---|---|---|---|---|---|---|---|---|---|---|\n",
       "| 1 | 2011-01-01 | 1 | 0 | 1 | 0 | 6 | 0 | 2 | 0.344167 | 0.363625 | 0.805833 | 0.1604460 | 331 |  654 |  985 |\n",
       "| 2 | 2011-01-02 | 1 | 0 | 1 | 0 | 0 | 0 | 2 | 0.363478 | 0.353739 | 0.696087 | 0.2485390 | 131 |  670 |  801 |\n",
       "| 3 | 2011-01-03 | 1 | 0 | 1 | 0 | 1 | 1 | 1 | 0.196364 | 0.189405 | 0.437273 | 0.2483090 | 120 | 1229 | 1349 |\n",
       "| 4 | 2011-01-04 | 1 | 0 | 1 | 0 | 2 | 1 | 1 | 0.200000 | 0.212122 | 0.590435 | 0.1602960 | 108 | 1454 | 1562 |\n",
       "| 5 | 2011-01-05 | 1 | 0 | 1 | 0 | 3 | 1 | 1 | 0.226957 | 0.229270 | 0.436957 | 0.1869000 |  82 | 1518 | 1600 |\n",
       "| 6 | 2011-01-06 | 1 | 0 | 1 | 0 | 4 | 1 | 1 | 0.204348 | 0.233209 | 0.518261 | 0.0895652 |  88 | 1518 | 1606 |\n",
       "\n"
      ],
      "text/plain": [
       "  instant dteday     season yr mnth holiday weekday workingday weathersit\n",
       "1 1       2011-01-01 1      0  1    0       6       0          2         \n",
       "2 2       2011-01-02 1      0  1    0       0       0          2         \n",
       "3 3       2011-01-03 1      0  1    0       1       1          1         \n",
       "4 4       2011-01-04 1      0  1    0       2       1          1         \n",
       "5 5       2011-01-05 1      0  1    0       3       1          1         \n",
       "6 6       2011-01-06 1      0  1    0       4       1          1         \n",
       "  temp     atemp    hum      windspeed casual registered cnt \n",
       "1 0.344167 0.363625 0.805833 0.1604460 331     654        985\n",
       "2 0.363478 0.353739 0.696087 0.2485390 131     670        801\n",
       "3 0.196364 0.189405 0.437273 0.2483090 120    1229       1349\n",
       "4 0.200000 0.212122 0.590435 0.1602960 108    1454       1562\n",
       "5 0.226957 0.229270 0.436957 0.1869000  82    1518       1600\n",
       "6 0.204348 0.233209 0.518261 0.0895652  88    1518       1606"
      ]
     },
     "metadata": {},
     "output_type": "display_data"
    },
    {
     "name": "stdout",
     "output_type": "stream",
     "text": [
      "[1] \"Table 1\"\n"
     ]
    }
   ],
   "source": [
    "dir.create(\"data\")\n",
    "url <- \"https://archive.ics.uci.edu/ml/machine-learning-databases/00275/Bike-Sharing-Dataset.zip\"\n",
    "download.file(url,\"data/Bike-Sharing-Dataset.zip\")\n",
    "unzip(\"data/Bike-Sharing-Dataset.zip\", files=\"day.csv\", exdir=\"data/\")\n",
    "bike <- read_csv(\"data/day.csv\") \n",
    "head(bike)\n",
    "print(\"Table 1\")"
   ]
  },
  {
   "cell_type": "markdown",
   "metadata": {},
   "source": [
    "Table 1 features part of the original dataset. Since season is a appropriate generalization of factors such as temperature, it is a feasible choice to use to determine our preliminary results. "
   ]
  },
  {
   "cell_type": "code",
   "execution_count": 29,
   "metadata": {},
   "outputs": [
    {
     "name": "stdout",
     "output_type": "stream",
     "text": [
      "[1] \"Table 2\"\n"
     ]
    },
    {
     "data": {
      "text/html": [
       "<table class=\"dataframe\">\n",
       "<caption>A tibble: 6 × 2</caption>\n",
       "<thead>\n",
       "\t<tr><th scope=col>season</th><th scope=col>cnt</th></tr>\n",
       "\t<tr><th scope=col>&lt;dbl&gt;</th><th scope=col>&lt;dbl&gt;</th></tr>\n",
       "</thead>\n",
       "<tbody>\n",
       "\t<tr><td>1</td><td> 985</td></tr>\n",
       "\t<tr><td>1</td><td> 801</td></tr>\n",
       "\t<tr><td>1</td><td>1349</td></tr>\n",
       "\t<tr><td>1</td><td>1562</td></tr>\n",
       "\t<tr><td>1</td><td>1600</td></tr>\n",
       "\t<tr><td>1</td><td>1606</td></tr>\n",
       "</tbody>\n",
       "</table>\n"
      ],
      "text/latex": [
       "A tibble: 6 × 2\n",
       "\\begin{tabular}{ll}\n",
       " season & cnt\\\\\n",
       " <dbl> & <dbl>\\\\\n",
       "\\hline\n",
       "\t 1 &  985\\\\\n",
       "\t 1 &  801\\\\\n",
       "\t 1 & 1349\\\\\n",
       "\t 1 & 1562\\\\\n",
       "\t 1 & 1600\\\\\n",
       "\t 1 & 1606\\\\\n",
       "\\end{tabular}\n"
      ],
      "text/markdown": [
       "\n",
       "A tibble: 6 × 2\n",
       "\n",
       "| season &lt;dbl&gt; | cnt &lt;dbl&gt; |\n",
       "|---|---|\n",
       "| 1 |  985 |\n",
       "| 1 |  801 |\n",
       "| 1 | 1349 |\n",
       "| 1 | 1562 |\n",
       "| 1 | 1600 |\n",
       "| 1 | 1606 |\n",
       "\n"
      ],
      "text/plain": [
       "  season cnt \n",
       "1 1       985\n",
       "2 1       801\n",
       "3 1      1349\n",
       "4 1      1562\n",
       "5 1      1600\n",
       "6 1      1606"
      ]
     },
     "metadata": {},
     "output_type": "display_data"
    }
   ],
   "source": [
    "bike <- bike %>%\n",
    " select(season, cnt)\n",
    "print(\"Table 2\")\n",
    "head(bike)"
   ]
  },
  {
   "cell_type": "markdown",
   "metadata": {},
   "source": [
    "Season is represented incorrectly as a numerical variable in table 2 so we changed it to a categorical variable. "
   ]
  },
  {
   "cell_type": "code",
   "execution_count": 30,
   "metadata": {},
   "outputs": [],
   "source": [
    "bike$season <- as.factor(bike$season)"
   ]
  },
  {
   "cell_type": "markdown",
   "metadata": {},
   "source": [
    "Although we have specified to use mean and standard deviation as parameters of interest, we think that it is more visually effective to use side-by-side boxplots to compare distributions among categorical variables."
   ]
  },
  {
   "cell_type": "code",
   "execution_count": 31,
   "metadata": {},
   "outputs": [
    {
     "data": {
      "image/png": "[encoded data removed]",
      "text/plain": [
       "plot without title"
      ]
     },
     "metadata": {
      "image/png": {
       "height": 360,
       "width": 600
      }
     },
     "output_type": "display_data"
    }
   ],
   "source": [
    "boxplots <- bike %>%  \n",
    "          ggplot(aes(x = season, y = cnt, fill = season)) + \n",
    "          stat_boxplot(geom ='errorbar') + \n",
    "          geom_boxplot() + \n",
    "          labs(x = \"Season\", y = \"Daily Count of Total Rental Bikes\", \n",
    "               title = \"Boxplots of Daily Count of Total Rental Bikes for Four Seasons\",\n",
    "               subtitle = \"Figure 1\") +\n",
    "          theme(text = element_text(size=20)) +\n",
    "          scale_fill_discrete(name = \"Season\", labels = c(\"winter\", \"spring\", \"summer\", \"fall\"))\n",
    "options(repr.plot.height = 6, repr.plot.width = 10)\n",
    "boxplots"
   ]
  },
  {
   "cell_type": "code",
   "execution_count": 32,
   "metadata": {},
   "outputs": [
    {
     "name": "stdout",
     "output_type": "stream",
     "text": [
      "[1] \"Table 4\"\n"
     ]
    },
    {
     "data": {
      "text/html": [
       "<table class=\"dataframe\">\n",
       "<caption>A tibble: 4 × 8</caption>\n",
       "<thead>\n",
       "\t<tr><th scope=col>season</th><th scope=col>n</th><th scope=col>Average_Count</th><th scope=col>Median_Count</th><th scope=col>Standard_Dev</th><th scope=col>IQR</th><th scope=col>min</th><th scope=col>max</th></tr>\n",
       "\t<tr><th scope=col>&lt;fct&gt;</th><th scope=col>&lt;int&gt;</th><th scope=col>&lt;dbl&gt;</th><th scope=col>&lt;dbl&gt;</th><th scope=col>&lt;dbl&gt;</th><th scope=col>&lt;dbl&gt;</th><th scope=col>&lt;dbl&gt;</th><th scope=col>&lt;dbl&gt;</th></tr>\n",
       "</thead>\n",
       "<tbody>\n",
       "\t<tr><td>1</td><td>181</td><td>2604.133</td><td>2209.0</td><td>1399.942</td><td>1918.00</td><td> 431</td><td>7836</td></tr>\n",
       "\t<tr><td>2</td><td>184</td><td>4992.332</td><td>4941.5</td><td>1695.977</td><td>2374.00</td><td> 795</td><td>8362</td></tr>\n",
       "\t<tr><td>3</td><td>188</td><td>5644.303</td><td>5353.5</td><td>1459.800</td><td>2342.75</td><td>1115</td><td>8714</td></tr>\n",
       "\t<tr><td>4</td><td>178</td><td>4728.163</td><td>4634.5</td><td>1699.615</td><td>2009.00</td><td>  22</td><td>8555</td></tr>\n",
       "</tbody>\n",
       "</table>\n"
      ],
      "text/latex": [
       "A tibble: 4 × 8\n",
       "\\begin{tabular}{llllllll}\n",
       " season & n & Average\\_Count & Median\\_Count & Standard\\_Dev & IQR & min & max\\\\\n",
       " <fct> & <int> & <dbl> & <dbl> & <dbl> & <dbl> & <dbl> & <dbl>\\\\\n",
       "\\hline\n",
       "\t 1 & 181 & 2604.133 & 2209.0 & 1399.942 & 1918.00 &  431 & 7836\\\\\n",
       "\t 2 & 184 & 4992.332 & 4941.5 & 1695.977 & 2374.00 &  795 & 8362\\\\\n",
       "\t 3 & 188 & 5644.303 & 5353.5 & 1459.800 & 2342.75 & 1115 & 8714\\\\\n",
       "\t 4 & 178 & 4728.163 & 4634.5 & 1699.615 & 2009.00 &   22 & 8555\\\\\n",
       "\\end{tabular}\n"
      ],
      "text/markdown": [
       "\n",
       "A tibble: 4 × 8\n",
       "\n",
       "| season &lt;fct&gt; | n &lt;int&gt; | Average_Count &lt;dbl&gt; | Median_Count &lt;dbl&gt; | Standard_Dev &lt;dbl&gt; | IQR &lt;dbl&gt; | min &lt;dbl&gt; | max &lt;dbl&gt; |\n",
       "|---|---|---|---|---|---|---|---|\n",
       "| 1 | 181 | 2604.133 | 2209.0 | 1399.942 | 1918.00 |  431 | 7836 |\n",
       "| 2 | 184 | 4992.332 | 4941.5 | 1695.977 | 2374.00 |  795 | 8362 |\n",
       "| 3 | 188 | 5644.303 | 5353.5 | 1459.800 | 2342.75 | 1115 | 8714 |\n",
       "| 4 | 178 | 4728.163 | 4634.5 | 1699.615 | 2009.00 |   22 | 8555 |\n",
       "\n"
      ],
      "text/plain": [
       "  season n   Average_Count Median_Count Standard_Dev IQR     min  max \n",
       "1 1      181 2604.133      2209.0       1399.942     1918.00  431 7836\n",
       "2 2      184 4992.332      4941.5       1695.977     2374.00  795 8362\n",
       "3 3      188 5644.303      5353.5       1459.800     2342.75 1115 8714\n",
       "4 4      178 4728.163      4634.5       1699.615     2009.00   22 8555"
      ]
     },
     "metadata": {},
     "output_type": "display_data"
    }
   ],
   "source": [
    "bike_summary <- bike %>% \n",
    "     group_by(season) %>% \n",
    "     summarize(n = n(), Average_Count = mean(cnt), Median_Count = median(cnt), Standard_Dev = sd(cnt),\n",
    "               IQR = quantile(cnt, 0.75) - quantile(cnt, 0.25), min = min(cnt), max = max(cnt))\n",
    "print(\"Table 4\")\n",
    "bike_summary"
   ]
  },
  {
   "cell_type": "markdown",
   "metadata": {},
   "source": [
    "Table 4 provides an exhaustive list of summary statistics of the daily cont for four seasons. We included our parameters of interest as well as other statistics that maybe helpful in better understanding the preliminary results."
   ]
  },
  {
   "cell_type": "markdown",
   "metadata": {},
   "source": [
    "### Methods: Plan"
   ]
  },
  {
   "cell_type": "markdown",
   "metadata": {},
   "source": [
    "The report on the \"bike\" dataset is clean and wrangled which makes it easy to understand. Preliminary analysis on that data is conducted for parameters of interest that gives in-depth information about the data collected.\n",
    "\n",
    "The dataset only includes bike-sharing data from the metro area of Washington DC. We will treat this data as a sample and use it to compare the two parameters of interest during different temperature ranges around the world. We will use bootstrapping to perform our analysis and display the change in the bootstrapping distribution as the sample size increases using asymptotic analysis."
   ]
  },
  {
   "cell_type": "markdown",
   "metadata": {},
   "source": [
    "We will investigate specific factors like temperature and use histograms, gradually increasing the sample size taken, to display the asymptotic affect on the parameters of interest, i.e. 'Average Count' at different temperatures. For hypothesis testing , we will use 'average count' as our parameter. We aim to estimate using a 95% confidence interval.\n",
    "\n",
    "**What do you expect to find?**\n",
    "- The normalized frequency of bike rentals as a consequence of date and time, to be applicable to the greater United States and the world.\n",
    "\n",
    "**What impact could such findings have?**\n",
    "- Increase in availability of bikes at temperatures when demand of bikes rented is high.\n",
    "- Determining the traffic level given temperatures during a day.\n",
    "- Initiating bike-sharing system in countries where its beneficial given year-round temperature ranges.\n",
    "\n",
    "**What future questions could this lead to?**\n",
    "- Does the same season have the same affect to the number of bikes rented during a day across the United States?\n",
    "- How can we maximize the number of bikes rented during a day?"
   ]
  },
  {
   "cell_type": "markdown",
   "metadata": {},
   "source": [
    "### References"
   ]
  },
  {
   "cell_type": "markdown",
   "metadata": {},
   "source": [
    "Capital Bikeshare. (n.d.). The History of Capital Bikeshare. Capital Bikeshare. Retrieved March 5,\n",
    "2022, from\n",
    "<br>&nbsp;&nbsp;&nbsp;&nbsp;&nbsp;&nbsp;https://ride.capitalbikeshare.com/about \n",
    "<br>Institute for Operations Research and the Management Sciences. (2020, January 6). Maximizing bike-share ridership: New \n",
    "<br>&nbsp;&nbsp;&nbsp;&nbsp;&nbsp;&nbsp;research says it's all about location: 10% increase in bike-availability levels increases ridership by 12%. ScienceDaily. \n",
    "<br>&nbsp;&nbsp;&nbsp;&nbsp;&nbsp;&nbsp;Retrieved March 4, 2022 from www.sciencedaily.com/releases/2020/01/200106141616.htm"
   ]
  }
 ],
 "metadata": {
  "kernelspec": {
   "display_name": "R",
   "language": "R",
   "name": "ir"
  },
  "language_info": {
   "codemirror_mode": "r",
   "file_extension": ".r",
   "mimetype": "text/x-r-source",
   "name": "R",
   "pygments_lexer": "r",
   "version": "4.1.2"
  }
 },
 "nbformat": 4,
 "nbformat_minor": 4
}
