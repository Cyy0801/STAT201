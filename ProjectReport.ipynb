{
 "cells": [
  {
   "cell_type": "markdown",
   "metadata": {},
   "source": [
    "# STAT 201 Project Final Report Group 20\n",
    "\n"
   ]
  },
  {
   "cell_type": "markdown",
   "metadata": {},
   "source": [
    "Group members:\n",
    "<br>Alan Zhang \n",
    "<br>Sneh Agarwal\n",
    "<br>Taniya Cai\n",
    "<br>Waxin Luo"
   ]
  },
  {
   "cell_type": "markdown",
   "metadata": {},
   "source": [
    "### Introduction"
   ]
  },
  {
   "cell_type": "markdown",
   "metadata": {},
   "source": [
    "Recently, bike-sharing systems have increasing popularity as a means of efficient transportation in urban areas. These systems are not only a feasible solution to the world’s major environmental problems, but they also play an important role in traffic and health issues. Its users are able to rent a bicycle from a convenient depot location, and return it at another one close to the user's destination. In the U.S. alone, over 60 cities have integrated bike-sharing systems and in densely populated cities like New York, the count of cyclists can reach 10,000 per day (Walker, 2019).The ubiquity of such programs has therefore generated investigation and analysis of quantifiable data for further effectiveness. Capital Bikeshare is one such bike-sharing system, that serves the Washington D.C. metropolitan area, and publishes yearly anonymized statistics, including the daily usage times (Capital Bikeshare). \n",
    "\n",
    "Better estimations of traffic flow under various conditions will enable bike-sharing companies to make more appropriate decisions on dispatching bikes thus maximizing bike-sharing availability and efficiency. Previous studies suggest that weather conditions have significant impacts on bike-share frequencies and fluctuation, and among various quantitative factors that define weather, the temperature is undoubtedly the most commonly used and analyzed (Gebhart & Noland, 2014).\n",
    "\n",
    "Washington D.C. has a dynamic temperature range, where the hot season can reach over 30 degrees celsius and the cold season can drop to below 0 degrees celsius (Weather Spark). Both the hot and cold season can last over 3 months, which provide extensive room for the application of different data analysis methods that require reproducible information.\n",
    "​\n",
    "The particular parameter of interest is the normalized frequency of users during different temperatures and days for bike-sharing systems. This would gauge demand, and so would be useful for possible seasonal or monthly availability decisions. The scale parameter of interest is standard deviation as it is representative of the degree of fluctuation in bike availability of the system (Institute for Operations Research and the Management Sciences, 2020). \n",
    "\n",
    "Since it is more likely to have casual users in warmer weather, it is hypothesized that both the fluctuation and the average count of rental bikes will decrease in the cold season, hence we are expecting to see that the average and standard deviation of the number of bike shares in the mild season (spring) to be larger than a cold season (winter)."
   ]
  },
  {
   "cell_type": "markdown",
   "metadata": {},
   "source": [
    "### Methods and Results"
   ]
  },
  {
   "cell_type": "code",
   "execution_count": 1,
   "metadata": {},
   "outputs": [
    {
     "name": "stderr",
     "output_type": "stream",
     "text": [
      "Warning message in system(\"timedatectl\", intern = TRUE):\n",
      "“running command 'timedatectl' had status 1”\n",
      "── \u001b[1mAttaching packages\u001b[22m ─────────────────────────────────────── tidyverse 1.3.1 ──\n",
      "\n",
      "\u001b[32m✔\u001b[39m \u001b[34mggplot2\u001b[39m 3.3.5     \u001b[32m✔\u001b[39m \u001b[34mpurrr  \u001b[39m 0.3.4\n",
      "\u001b[32m✔\u001b[39m \u001b[34mtibble \u001b[39m 3.1.6     \u001b[32m✔\u001b[39m \u001b[34mdplyr  \u001b[39m 1.0.8\n",
      "\u001b[32m✔\u001b[39m \u001b[34mtidyr  \u001b[39m 1.2.0     \u001b[32m✔\u001b[39m \u001b[34mstringr\u001b[39m 1.4.0\n",
      "\u001b[32m✔\u001b[39m \u001b[34mreadr  \u001b[39m 2.1.2     \u001b[32m✔\u001b[39m \u001b[34mforcats\u001b[39m 0.5.1\n",
      "\n",
      "── \u001b[1mConflicts\u001b[22m ────────────────────────────────────────── tidyverse_conflicts() ──\n",
      "\u001b[31m✖\u001b[39m \u001b[34mdplyr\u001b[39m::\u001b[32mfilter()\u001b[39m masks \u001b[34mstats\u001b[39m::filter()\n",
      "\u001b[31m✖\u001b[39m \u001b[34mdplyr\u001b[39m::\u001b[32mlag()\u001b[39m    masks \u001b[34mstats\u001b[39m::lag()\n",
      "\n"
     ]
    }
   ],
   "source": [
    "library(repr)\n",
    "library(tidyverse)\n",
    "library(dplyr)\n",
    "library(grid)\n",
    "library(infer)"
   ]
  },
  {
   "cell_type": "markdown",
   "metadata": {},
   "source": [
    "The first step is to download the dataset zip file from the website, unzip the files, and load the dataset into R. We name the dataset as bike."
   ]
  },
  {
   "cell_type": "code",
   "execution_count": 2,
   "metadata": {},
   "outputs": [
    {
     "name": "stderr",
     "output_type": "stream",
     "text": [
      "Warning message in dir.create(\"data\"):\n",
      "“'data' already exists”\n",
      "\u001b[1mRows: \u001b[22m\u001b[34m731\u001b[39m \u001b[1mColumns: \u001b[22m\u001b[34m16\u001b[39m\n",
      "\u001b[36m──\u001b[39m \u001b[1mColumn specification\u001b[22m \u001b[36m────────────────────────────────────────────────────────\u001b[39m\n",
      "\u001b[1mDelimiter:\u001b[22m \",\"\n",
      "\u001b[32mdbl\u001b[39m  (15): instant, season, yr, mnth, holiday, weekday, workingday, weathers...\n",
      "\u001b[34mdate\u001b[39m  (1): dteday\n",
      "\n",
      "\u001b[36mℹ\u001b[39m Use `spec()` to retrieve the full column specification for this data.\n",
      "\u001b[36mℹ\u001b[39m Specify the column types or set `show_col_types = FALSE` to quiet this message.\n"
     ]
    },
    {
     "data": {
      "text/html": [
       "<table class=\"dataframe\">\n",
       "<caption>A tibble: 6 × 16</caption>\n",
       "<thead>\n",
       "\t<tr><th scope=col>instant</th><th scope=col>dteday</th><th scope=col>season</th><th scope=col>yr</th><th scope=col>mnth</th><th scope=col>holiday</th><th scope=col>weekday</th><th scope=col>workingday</th><th scope=col>weathersit</th><th scope=col>temp</th><th scope=col>atemp</th><th scope=col>hum</th><th scope=col>windspeed</th><th scope=col>casual</th><th scope=col>registered</th><th scope=col>cnt</th></tr>\n",
       "\t<tr><th scope=col>&lt;dbl&gt;</th><th scope=col>&lt;date&gt;</th><th scope=col>&lt;dbl&gt;</th><th scope=col>&lt;dbl&gt;</th><th scope=col>&lt;dbl&gt;</th><th scope=col>&lt;dbl&gt;</th><th scope=col>&lt;dbl&gt;</th><th scope=col>&lt;dbl&gt;</th><th scope=col>&lt;dbl&gt;</th><th scope=col>&lt;dbl&gt;</th><th scope=col>&lt;dbl&gt;</th><th scope=col>&lt;dbl&gt;</th><th scope=col>&lt;dbl&gt;</th><th scope=col>&lt;dbl&gt;</th><th scope=col>&lt;dbl&gt;</th><th scope=col>&lt;dbl&gt;</th></tr>\n",
       "</thead>\n",
       "<tbody>\n",
       "\t<tr><td>1</td><td>2011-01-01</td><td>1</td><td>0</td><td>1</td><td>0</td><td>6</td><td>0</td><td>2</td><td>0.344167</td><td>0.363625</td><td>0.805833</td><td>0.1604460</td><td>331</td><td> 654</td><td> 985</td></tr>\n",
       "\t<tr><td>2</td><td>2011-01-02</td><td>1</td><td>0</td><td>1</td><td>0</td><td>0</td><td>0</td><td>2</td><td>0.363478</td><td>0.353739</td><td>0.696087</td><td>0.2485390</td><td>131</td><td> 670</td><td> 801</td></tr>\n",
       "\t<tr><td>3</td><td>2011-01-03</td><td>1</td><td>0</td><td>1</td><td>0</td><td>1</td><td>1</td><td>1</td><td>0.196364</td><td>0.189405</td><td>0.437273</td><td>0.2483090</td><td>120</td><td>1229</td><td>1349</td></tr>\n",
       "\t<tr><td>4</td><td>2011-01-04</td><td>1</td><td>0</td><td>1</td><td>0</td><td>2</td><td>1</td><td>1</td><td>0.200000</td><td>0.212122</td><td>0.590435</td><td>0.1602960</td><td>108</td><td>1454</td><td>1562</td></tr>\n",
       "\t<tr><td>5</td><td>2011-01-05</td><td>1</td><td>0</td><td>1</td><td>0</td><td>3</td><td>1</td><td>1</td><td>0.226957</td><td>0.229270</td><td>0.436957</td><td>0.1869000</td><td> 82</td><td>1518</td><td>1600</td></tr>\n",
       "\t<tr><td>6</td><td>2011-01-06</td><td>1</td><td>0</td><td>1</td><td>0</td><td>4</td><td>1</td><td>1</td><td>0.204348</td><td>0.233209</td><td>0.518261</td><td>0.0895652</td><td> 88</td><td>1518</td><td>1606</td></tr>\n",
       "</tbody>\n",
       "</table>\n"
      ],
      "text/latex": [
       "A tibble: 6 × 16\n",
       "\\begin{tabular}{llllllllllllllll}\n",
       " instant & dteday & season & yr & mnth & holiday & weekday & workingday & weathersit & temp & atemp & hum & windspeed & casual & registered & cnt\\\\\n",
       " <dbl> & <date> & <dbl> & <dbl> & <dbl> & <dbl> & <dbl> & <dbl> & <dbl> & <dbl> & <dbl> & <dbl> & <dbl> & <dbl> & <dbl> & <dbl>\\\\\n",
       "\\hline\n",
       "\t 1 & 2011-01-01 & 1 & 0 & 1 & 0 & 6 & 0 & 2 & 0.344167 & 0.363625 & 0.805833 & 0.1604460 & 331 &  654 &  985\\\\\n",
       "\t 2 & 2011-01-02 & 1 & 0 & 1 & 0 & 0 & 0 & 2 & 0.363478 & 0.353739 & 0.696087 & 0.2485390 & 131 &  670 &  801\\\\\n",
       "\t 3 & 2011-01-03 & 1 & 0 & 1 & 0 & 1 & 1 & 1 & 0.196364 & 0.189405 & 0.437273 & 0.2483090 & 120 & 1229 & 1349\\\\\n",
       "\t 4 & 2011-01-04 & 1 & 0 & 1 & 0 & 2 & 1 & 1 & 0.200000 & 0.212122 & 0.590435 & 0.1602960 & 108 & 1454 & 1562\\\\\n",
       "\t 5 & 2011-01-05 & 1 & 0 & 1 & 0 & 3 & 1 & 1 & 0.226957 & 0.229270 & 0.436957 & 0.1869000 &  82 & 1518 & 1600\\\\\n",
       "\t 6 & 2011-01-06 & 1 & 0 & 1 & 0 & 4 & 1 & 1 & 0.204348 & 0.233209 & 0.518261 & 0.0895652 &  88 & 1518 & 1606\\\\\n",
       "\\end{tabular}\n"
      ],
      "text/markdown": [
       "\n",
       "A tibble: 6 × 16\n",
       "\n",
       "| instant &lt;dbl&gt; | dteday &lt;date&gt; | season &lt;dbl&gt; | yr &lt;dbl&gt; | mnth &lt;dbl&gt; | holiday &lt;dbl&gt; | weekday &lt;dbl&gt; | workingday &lt;dbl&gt; | weathersit &lt;dbl&gt; | temp &lt;dbl&gt; | atemp &lt;dbl&gt; | hum &lt;dbl&gt; | windspeed &lt;dbl&gt; | casual &lt;dbl&gt; | registered &lt;dbl&gt; | cnt &lt;dbl&gt; |\n",
       "|---|---|---|---|---|---|---|---|---|---|---|---|---|---|---|---|\n",
       "| 1 | 2011-01-01 | 1 | 0 | 1 | 0 | 6 | 0 | 2 | 0.344167 | 0.363625 | 0.805833 | 0.1604460 | 331 |  654 |  985 |\n",
       "| 2 | 2011-01-02 | 1 | 0 | 1 | 0 | 0 | 0 | 2 | 0.363478 | 0.353739 | 0.696087 | 0.2485390 | 131 |  670 |  801 |\n",
       "| 3 | 2011-01-03 | 1 | 0 | 1 | 0 | 1 | 1 | 1 | 0.196364 | 0.189405 | 0.437273 | 0.2483090 | 120 | 1229 | 1349 |\n",
       "| 4 | 2011-01-04 | 1 | 0 | 1 | 0 | 2 | 1 | 1 | 0.200000 | 0.212122 | 0.590435 | 0.1602960 | 108 | 1454 | 1562 |\n",
       "| 5 | 2011-01-05 | 1 | 0 | 1 | 0 | 3 | 1 | 1 | 0.226957 | 0.229270 | 0.436957 | 0.1869000 |  82 | 1518 | 1600 |\n",
       "| 6 | 2011-01-06 | 1 | 0 | 1 | 0 | 4 | 1 | 1 | 0.204348 | 0.233209 | 0.518261 | 0.0895652 |  88 | 1518 | 1606 |\n",
       "\n"
      ],
      "text/plain": [
       "  instant dteday     season yr mnth holiday weekday workingday weathersit\n",
       "1 1       2011-01-01 1      0  1    0       6       0          2         \n",
       "2 2       2011-01-02 1      0  1    0       0       0          2         \n",
       "3 3       2011-01-03 1      0  1    0       1       1          1         \n",
       "4 4       2011-01-04 1      0  1    0       2       1          1         \n",
       "5 5       2011-01-05 1      0  1    0       3       1          1         \n",
       "6 6       2011-01-06 1      0  1    0       4       1          1         \n",
       "  temp     atemp    hum      windspeed casual registered cnt \n",
       "1 0.344167 0.363625 0.805833 0.1604460 331     654        985\n",
       "2 0.363478 0.353739 0.696087 0.2485390 131     670        801\n",
       "3 0.196364 0.189405 0.437273 0.2483090 120    1229       1349\n",
       "4 0.200000 0.212122 0.590435 0.1602960 108    1454       1562\n",
       "5 0.226957 0.229270 0.436957 0.1869000  82    1518       1600\n",
       "6 0.204348 0.233209 0.518261 0.0895652  88    1518       1606"
      ]
     },
     "metadata": {},
     "output_type": "display_data"
    },
    {
     "name": "stdout",
     "output_type": "stream",
     "text": [
      "[1] \"Table 1\"\n"
     ]
    }
   ],
   "source": [
    "dir.create(\"data\")\n",
    "url <- \"https://archive.ics.uci.edu/ml/machine-learning-databases/00275/Bike-Sharing-Dataset.zip\"\n",
    "download.file(url,\"data/Bike-Sharing-Dataset.zip\")\n",
    "unzip(\"data/Bike-Sharing-Dataset.zip\", files=\"day.csv\", exdir=\"data/\")\n",
    "bike <- read_csv(\"data/day.csv\") \n",
    "head(bike)\n",
    "print(\"Table 1\")"
   ]
  },
  {
   "cell_type": "markdown",
   "metadata": {},
   "source": [
    "Table 1 features part of the original dataset. Since season is a appropriate generalization of factors such as temperature, it is a feasible choice to use to determine our preliminary results. "
   ]
  },
  {
   "cell_type": "code",
   "execution_count": 3,
   "metadata": {},
   "outputs": [
    {
     "name": "stdout",
     "output_type": "stream",
     "text": [
      "[1] \"Table 2 Cleaned bike dataset\"\n"
     ]
    },
    {
     "data": {
      "text/html": [
       "<table class=\"dataframe\">\n",
       "<caption>A tibble: 6 × 2</caption>\n",
       "<thead>\n",
       "\t<tr><th scope=col>season</th><th scope=col>cnt</th></tr>\n",
       "\t<tr><th scope=col>&lt;dbl&gt;</th><th scope=col>&lt;dbl&gt;</th></tr>\n",
       "</thead>\n",
       "<tbody>\n",
       "\t<tr><td>1</td><td> 985</td></tr>\n",
       "\t<tr><td>1</td><td> 801</td></tr>\n",
       "\t<tr><td>1</td><td>1349</td></tr>\n",
       "\t<tr><td>1</td><td>1562</td></tr>\n",
       "\t<tr><td>1</td><td>1600</td></tr>\n",
       "\t<tr><td>1</td><td>1606</td></tr>\n",
       "</tbody>\n",
       "</table>\n"
      ],
      "text/latex": [
       "A tibble: 6 × 2\n",
       "\\begin{tabular}{ll}\n",
       " season & cnt\\\\\n",
       " <dbl> & <dbl>\\\\\n",
       "\\hline\n",
       "\t 1 &  985\\\\\n",
       "\t 1 &  801\\\\\n",
       "\t 1 & 1349\\\\\n",
       "\t 1 & 1562\\\\\n",
       "\t 1 & 1600\\\\\n",
       "\t 1 & 1606\\\\\n",
       "\\end{tabular}\n"
      ],
      "text/markdown": [
       "\n",
       "A tibble: 6 × 2\n",
       "\n",
       "| season &lt;dbl&gt; | cnt &lt;dbl&gt; |\n",
       "|---|---|\n",
       "| 1 |  985 |\n",
       "| 1 |  801 |\n",
       "| 1 | 1349 |\n",
       "| 1 | 1562 |\n",
       "| 1 | 1600 |\n",
       "| 1 | 1606 |\n",
       "\n"
      ],
      "text/plain": [
       "  season cnt \n",
       "1 1       985\n",
       "2 1       801\n",
       "3 1      1349\n",
       "4 1      1562\n",
       "5 1      1600\n",
       "6 1      1606"
      ]
     },
     "metadata": {},
     "output_type": "display_data"
    }
   ],
   "source": [
    "bike <- bike %>%\n",
    " select(season, cnt)\n",
    "print(\"Table 2 Cleaned bike dataset\")\n",
    "head(bike)"
   ]
  },
  {
   "cell_type": "markdown",
   "metadata": {},
   "source": [
    "Season is represented incorrectly as a numerical variable in table 2 so we changed it to a categorical variable. "
   ]
  },
  {
   "cell_type": "code",
   "execution_count": 4,
   "metadata": {},
   "outputs": [],
   "source": [
    "bike$season <- as.factor(bike$season)"
   ]
  },
  {
   "cell_type": "markdown",
   "metadata": {},
   "source": [
    "Although we have specified to use mean and standard deviation as parameters of interest, for preliminary analysis we think that it is more visually effective to use side-by-side boxplots to compare distributions among categorical variables."
   ]
  },
  {
   "cell_type": "code",
   "execution_count": 5,
   "metadata": {},
   "outputs": [
    {
     "data": {
      "image/png": "[encoded data removed]",
      "text/plain": [
       "plot without title"
      ]
     },
     "metadata": {
      "image/png": {
       "height": 360,
       "width": 600
      }
     },
     "output_type": "display_data"
    }
   ],
   "source": [
    "boxplots <- bike %>%  \n",
    "          ggplot(aes(x = season, y = cnt, fill = season)) + \n",
    "          stat_boxplot(geom ='errorbar') + \n",
    "          geom_boxplot() + \n",
    "          labs(x = \"Season\", y = \"Daily Count of Total Rental Bikes\", \n",
    "               title = \"Boxplots of Daily Count of Total Rental Bikes for Four Seasons\",\n",
    "               subtitle = \"Figure 1\") +\n",
    "          theme(text = element_text(size=20)) +\n",
    "          scale_fill_discrete(name = \"Season\", labels = c(\"winter\", \"spring\", \"summer\", \"fall\"))\n",
    "options(repr.plot.height = 6, repr.plot.width = 10)\n",
    "boxplots"
   ]
  },
  {
   "cell_type": "code",
   "execution_count": 6,
   "metadata": {},
   "outputs": [
    {
     "name": "stdout",
     "output_type": "stream",
     "text": [
      "[1] \"Table 3 Preliminary results\"\n"
     ]
    },
    {
     "data": {
      "text/html": [
       "<table class=\"dataframe\">\n",
       "<caption>A tibble: 4 × 8</caption>\n",
       "<thead>\n",
       "\t<tr><th scope=col>season</th><th scope=col>n</th><th scope=col>Average_Count</th><th scope=col>Median_Count</th><th scope=col>Standard_Dev</th><th scope=col>IQR</th><th scope=col>min</th><th scope=col>max</th></tr>\n",
       "\t<tr><th scope=col>&lt;fct&gt;</th><th scope=col>&lt;int&gt;</th><th scope=col>&lt;dbl&gt;</th><th scope=col>&lt;dbl&gt;</th><th scope=col>&lt;dbl&gt;</th><th scope=col>&lt;dbl&gt;</th><th scope=col>&lt;dbl&gt;</th><th scope=col>&lt;dbl&gt;</th></tr>\n",
       "</thead>\n",
       "<tbody>\n",
       "\t<tr><td>1</td><td>181</td><td>2604.133</td><td>2209.0</td><td>1399.942</td><td>1918.00</td><td> 431</td><td>7836</td></tr>\n",
       "\t<tr><td>2</td><td>184</td><td>4992.332</td><td>4941.5</td><td>1695.977</td><td>2374.00</td><td> 795</td><td>8362</td></tr>\n",
       "\t<tr><td>3</td><td>188</td><td>5644.303</td><td>5353.5</td><td>1459.800</td><td>2342.75</td><td>1115</td><td>8714</td></tr>\n",
       "\t<tr><td>4</td><td>178</td><td>4728.163</td><td>4634.5</td><td>1699.615</td><td>2009.00</td><td>  22</td><td>8555</td></tr>\n",
       "</tbody>\n",
       "</table>\n"
      ],
      "text/latex": [
       "A tibble: 4 × 8\n",
       "\\begin{tabular}{llllllll}\n",
       " season & n & Average\\_Count & Median\\_Count & Standard\\_Dev & IQR & min & max\\\\\n",
       " <fct> & <int> & <dbl> & <dbl> & <dbl> & <dbl> & <dbl> & <dbl>\\\\\n",
       "\\hline\n",
       "\t 1 & 181 & 2604.133 & 2209.0 & 1399.942 & 1918.00 &  431 & 7836\\\\\n",
       "\t 2 & 184 & 4992.332 & 4941.5 & 1695.977 & 2374.00 &  795 & 8362\\\\\n",
       "\t 3 & 188 & 5644.303 & 5353.5 & 1459.800 & 2342.75 & 1115 & 8714\\\\\n",
       "\t 4 & 178 & 4728.163 & 4634.5 & 1699.615 & 2009.00 &   22 & 8555\\\\\n",
       "\\end{tabular}\n"
      ],
      "text/markdown": [
       "\n",
       "A tibble: 4 × 8\n",
       "\n",
       "| season &lt;fct&gt; | n &lt;int&gt; | Average_Count &lt;dbl&gt; | Median_Count &lt;dbl&gt; | Standard_Dev &lt;dbl&gt; | IQR &lt;dbl&gt; | min &lt;dbl&gt; | max &lt;dbl&gt; |\n",
       "|---|---|---|---|---|---|---|---|\n",
       "| 1 | 181 | 2604.133 | 2209.0 | 1399.942 | 1918.00 |  431 | 7836 |\n",
       "| 2 | 184 | 4992.332 | 4941.5 | 1695.977 | 2374.00 |  795 | 8362 |\n",
       "| 3 | 188 | 5644.303 | 5353.5 | 1459.800 | 2342.75 | 1115 | 8714 |\n",
       "| 4 | 178 | 4728.163 | 4634.5 | 1699.615 | 2009.00 |   22 | 8555 |\n",
       "\n"
      ],
      "text/plain": [
       "  season n   Average_Count Median_Count Standard_Dev IQR     min  max \n",
       "1 1      181 2604.133      2209.0       1399.942     1918.00  431 7836\n",
       "2 2      184 4992.332      4941.5       1695.977     2374.00  795 8362\n",
       "3 3      188 5644.303      5353.5       1459.800     2342.75 1115 8714\n",
       "4 4      178 4728.163      4634.5       1699.615     2009.00   22 8555"
      ]
     },
     "metadata": {},
     "output_type": "display_data"
    }
   ],
   "source": [
    "bike_summary <- bike %>% \n",
    "     group_by(season) %>% \n",
    "     summarize(n = n(), Average_Count = mean(cnt), Median_Count = median(cnt), Standard_Dev = sd(cnt),\n",
    "               IQR = quantile(cnt, 0.75) - quantile(cnt, 0.25), min = min(cnt), max = max(cnt))\n",
    "print(\"Table 3 Preliminary results\")\n",
    "bike_summary"
   ]
  },
  {
   "cell_type": "markdown",
   "metadata": {},
   "source": [
    "Table 3 provides an exhaustive list of summary statistics of the daily cont for four seasons. We included our parameters of interest (standard deviation)as well as other statistics that maybe helpful in better understanding the preliminary results. It can be observed that preliminary analysis supports our hypothesis of larger standard deviation in milder seasons (spring-2 and fall-4)."
   ]
  },
  {
   "cell_type": "markdown",
   "metadata": {},
   "source": [
    "We decided to transform the dataset to have two distinct season, where spring counts will be represented as \"mild\" and winter counts will be represented as \"cold\". "
   ]
  },
  {
   "cell_type": "code",
   "execution_count": 7,
   "metadata": {},
   "outputs": [
    {
     "name": "stdout",
     "output_type": "stream",
     "text": [
      "[1] \"Table 4 Reduced bike dataset\"\n"
     ]
    },
    {
     "data": {
      "text/html": [
       "<table class=\"dataframe\">\n",
       "<caption>A tibble: 6 × 2</caption>\n",
       "<thead>\n",
       "\t<tr><th scope=col>season</th><th scope=col>cnt</th></tr>\n",
       "\t<tr><th scope=col>&lt;fct&gt;</th><th scope=col>&lt;dbl&gt;</th></tr>\n",
       "</thead>\n",
       "<tbody>\n",
       "\t<tr><td>cold</td><td> 985</td></tr>\n",
       "\t<tr><td>cold</td><td> 801</td></tr>\n",
       "\t<tr><td>cold</td><td>1349</td></tr>\n",
       "\t<tr><td>cold</td><td>1562</td></tr>\n",
       "\t<tr><td>cold</td><td>1600</td></tr>\n",
       "\t<tr><td>cold</td><td>1606</td></tr>\n",
       "</tbody>\n",
       "</table>\n"
      ],
      "text/latex": [
       "A tibble: 6 × 2\n",
       "\\begin{tabular}{ll}\n",
       " season & cnt\\\\\n",
       " <fct> & <dbl>\\\\\n",
       "\\hline\n",
       "\t cold &  985\\\\\n",
       "\t cold &  801\\\\\n",
       "\t cold & 1349\\\\\n",
       "\t cold & 1562\\\\\n",
       "\t cold & 1600\\\\\n",
       "\t cold & 1606\\\\\n",
       "\\end{tabular}\n"
      ],
      "text/markdown": [
       "\n",
       "A tibble: 6 × 2\n",
       "\n",
       "| season &lt;fct&gt; | cnt &lt;dbl&gt; |\n",
       "|---|---|\n",
       "| cold |  985 |\n",
       "| cold |  801 |\n",
       "| cold | 1349 |\n",
       "| cold | 1562 |\n",
       "| cold | 1600 |\n",
       "| cold | 1606 |\n",
       "\n"
      ],
      "text/plain": [
       "  season cnt \n",
       "1 cold    985\n",
       "2 cold    801\n",
       "3 cold   1349\n",
       "4 cold   1562\n",
       "5 cold   1600\n",
       "6 cold   1606"
      ]
     },
     "metadata": {},
     "output_type": "display_data"
    }
   ],
   "source": [
    "bike$season <- as.character(bike$season)      # convert factor to character\n",
    "bike$season[bike$season == \"1\"] <- \"cold\"\n",
    "bike$season[bike$season == \"2\"] <- \"mild\" \n",
    "bike$season <- as.factor(bike$season)         # convert back to factor\n",
    "bike_reduced <- bike %>%\n",
    "    filter(season == \"cold\" | season == \"mild\")\n",
    "print(\"Table 4 Reduced bike dataset\")\n",
    "head(bike_reduced)"
   ]
  },
  {
   "cell_type": "markdown",
   "metadata": {},
   "source": [
    "Now we will take a look of the reduced data"
   ]
  },
  {
   "cell_type": "code",
   "execution_count": 8,
   "metadata": {},
   "outputs": [
    {
     "name": "stdout",
     "output_type": "stream",
     "text": [
      "[1] \"Table 5 Summary statistics of reduced data\"\n"
     ]
    },
    {
     "data": {
      "text/html": [
       "<table class=\"dataframe\">\n",
       "<caption>A tibble: 2 × 8</caption>\n",
       "<thead>\n",
       "\t<tr><th scope=col>season</th><th scope=col>n</th><th scope=col>count_median</th><th scope=col>count_average</th><th scope=col>sd</th><th scope=col>IQR</th><th scope=col>min</th><th scope=col>max</th></tr>\n",
       "\t<tr><th scope=col>&lt;fct&gt;</th><th scope=col>&lt;int&gt;</th><th scope=col>&lt;dbl&gt;</th><th scope=col>&lt;dbl&gt;</th><th scope=col>&lt;dbl&gt;</th><th scope=col>&lt;dbl&gt;</th><th scope=col>&lt;dbl&gt;</th><th scope=col>&lt;dbl&gt;</th></tr>\n",
       "</thead>\n",
       "<tbody>\n",
       "\t<tr><td>cold</td><td>181</td><td>2209.0</td><td>2604.133</td><td>1399.942</td><td>1918</td><td>431</td><td>7836</td></tr>\n",
       "\t<tr><td>mild</td><td>184</td><td>4941.5</td><td>4992.332</td><td>1695.977</td><td>2374</td><td>795</td><td>8362</td></tr>\n",
       "</tbody>\n",
       "</table>\n"
      ],
      "text/latex": [
       "A tibble: 2 × 8\n",
       "\\begin{tabular}{llllllll}\n",
       " season & n & count\\_median & count\\_average & sd & IQR & min & max\\\\\n",
       " <fct> & <int> & <dbl> & <dbl> & <dbl> & <dbl> & <dbl> & <dbl>\\\\\n",
       "\\hline\n",
       "\t cold & 181 & 2209.0 & 2604.133 & 1399.942 & 1918 & 431 & 7836\\\\\n",
       "\t mild & 184 & 4941.5 & 4992.332 & 1695.977 & 2374 & 795 & 8362\\\\\n",
       "\\end{tabular}\n"
      ],
      "text/markdown": [
       "\n",
       "A tibble: 2 × 8\n",
       "\n",
       "| season &lt;fct&gt; | n &lt;int&gt; | count_median &lt;dbl&gt; | count_average &lt;dbl&gt; | sd &lt;dbl&gt; | IQR &lt;dbl&gt; | min &lt;dbl&gt; | max &lt;dbl&gt; |\n",
       "|---|---|---|---|---|---|---|---|\n",
       "| cold | 181 | 2209.0 | 2604.133 | 1399.942 | 1918 | 431 | 7836 |\n",
       "| mild | 184 | 4941.5 | 4992.332 | 1695.977 | 2374 | 795 | 8362 |\n",
       "\n"
      ],
      "text/plain": [
       "  season n   count_median count_average sd       IQR  min max \n",
       "1 cold   181 2209.0       2604.133      1399.942 1918 431 7836\n",
       "2 mild   184 4941.5       4992.332      1695.977 2374 795 8362"
      ]
     },
     "metadata": {},
     "output_type": "display_data"
    }
   ],
   "source": [
    "bike_summary <- bike_reduced %>% \n",
    "    group_by(season) %>% \n",
    "    summarize(n = n(), count_median = median(cnt), count_average = mean(cnt), sd = sd(cnt),\n",
    "             IQR = quantile(cnt, 0.75) - quantile(cnt, 0.25), min = min(cnt), max = max(cnt))\n",
    "print(\"Table 5 Summary statistics of reduced data\")\n",
    "bike_summary"
   ]
  },
  {
   "cell_type": "markdown",
   "metadata": {},
   "source": [
    "The data is cleaned and wrangled with no missing values and of a sufficient and comparable sample size, which suggest that it is representative of our population and our explanatory variable season."
   ]
  },
  {
   "cell_type": "markdown",
   "metadata": {},
   "source": [
    "#### Bootstrapping VS. Asymptotic Analysis"
   ]
  },
  {
   "cell_type": "markdown",
   "metadata": {},
   "source": [
    "The CLT states that for sufficiently large samples with n >= 30, the sampling distribution of sample means will tend towards a normal distribution regardless of the original distribution of the population. In the dataset, both samples are of sufficient size hence we can use CLT to approximate the sampling distribution of sample means through taking multiple samples of both groups and calculated their means."
   ]
  },
  {
   "cell_type": "markdown",
   "metadata": {},
   "source": [
    "To visualized the comparison, we use histograms to show the distribution of our data:"
   ]
  },
  {
   "cell_type": "code",
   "execution_count": 9,
   "metadata": {},
   "outputs": [
    {
     "data": {
      "image/png": "[encoded data removed]",
      "text/plain": [
       "plot without title"
      ]
     },
     "metadata": {
      "image/png": {
       "height": 360,
       "width": 600
      }
     },
     "output_type": "display_data"
    }
   ],
   "source": [
    "options(repr.plot.height = 6, repr.plot.width = 10)\n",
    "\n",
    "overlayed_distribution <- bike_reduced %>% \n",
    "    ggplot(aes(x = cnt, fill = season)) +\n",
    "    geom_histogram(position = \"identity\", binwidth = 600, alpha = 0.6) +\n",
    "    labs(x = \"Number of Bike Rentals\", y = \"Count\", \n",
    "         title = \"Sample Distribution of Bike Share Counts by Season\",\n",
    "         subtitle = \"Figure 2\") +\n",
    "    theme(text = element_text(size = 20)) + \n",
    "    geom_vline(aes(xintercept = bike_summary$count_average[1], color = \"cold\"), size = 1.7) +\n",
    "    geom_vline(aes(xintercept = bike_summary$count_average[2], color = \"mild\"), size = 1.7) +\n",
    "    scale_color_manual(name = \"Mean\", values = c(\"extreme\" = \"red\", \"mild\" = \"blue\"))\n",
    "\n",
    "overlayed_distribution"
   ]
  },
  {
   "cell_type": "markdown",
   "metadata": {},
   "source": [
    "##### Hypothesis for location parameter (mean):\n",
    "\n",
    "$H_{0}$ : The mean count of bike rentals of cold season is the same as the mean count of bike rentals of mild season.\n",
    "\n",
    "$H_{A}$ : The mean count of bike rentals of cold season less than the mean count of bike rentals of mild season.\n",
    "\n",
    "##### Hypothesis for scale parameter (standard deviation):\n",
    "\n",
    "$H_{0}$ : The standard deviation of bike rentals of cold season is the same as the standard deviation count of bike rentals of mild season.\n",
    "\n",
    "$H_{A}$ : The standard deviation of bike rentals of cold season is less than the standard deviation count of bike rentals of mild season."
   ]
  },
  {
   "cell_type": "markdown",
   "metadata": {},
   "source": [
    "#### Applying the Large Sample Theory for Location Parameter (Mean)\n",
    "\n",
    "Since we have justify that CLT is applicable to our dataset it is appropriate to use the two-sample t-test to compare the means of the two season. Here since we expect the standard deviation (hence also variance) of the two groups to be different, we will be using Welch Two Sample t-test where it is assumed that the variances are unequal."
   ]
  },
  {
   "cell_type": "code",
   "execution_count": 155,
   "metadata": {},
   "outputs": [
    {
     "name": "stdout",
     "output_type": "stream",
     "text": [
      "[1] \"Table 6 Summary statistics for t-test\"\n"
     ]
    },
    {
     "data": {
      "text/plain": [
       "\n",
       "\tWelch Two Sample t-test\n",
       "\n",
       "data:  cold_counts and mild_counts\n",
       "t = -14.682, df = 352.41, p-value < 2.2e-16\n",
       "alternative hypothesis: true difference in means is less than 0\n",
       "95 percent confidence interval:\n",
       "      -Inf -2119.933\n",
       "sample estimates:\n",
       "mean of x mean of y \n",
       " 2604.133  4992.332 \n"
      ]
     },
     "metadata": {},
     "output_type": "display_data"
    },
    {
     "name": "stdout",
     "output_type": "stream",
     "text": [
      "[1] \"Table 7 p-value for mean through t-test\"\n"
     ]
    },
    {
     "data": {
      "text/html": [
       "<table class=\"dataframe\">\n",
       "<caption>A tibble: 1 × 1</caption>\n",
       "<thead>\n",
       "\t<tr><th scope=col>p_value.</th></tr>\n",
       "\t<tr><th scope=col>&lt;dbl&gt;</th></tr>\n",
       "</thead>\n",
       "<tbody>\n",
       "\t<tr><td>1.031277e-38</td></tr>\n",
       "</tbody>\n",
       "</table>\n"
      ],
      "text/latex": [
       "A tibble: 1 × 1\n",
       "\\begin{tabular}{l}\n",
       " p\\_value.\\\\\n",
       " <dbl>\\\\\n",
       "\\hline\n",
       "\t 1.031277e-38\\\\\n",
       "\\end{tabular}\n"
      ],
      "text/markdown": [
       "\n",
       "A tibble: 1 × 1\n",
       "\n",
       "| p_value. &lt;dbl&gt; |\n",
       "|---|\n",
       "| 1.031277e-38 |\n",
       "\n"
      ],
      "text/plain": [
       "  p_value.    \n",
       "1 1.031277e-38"
      ]
     },
     "metadata": {},
     "output_type": "display_data"
    }
   ],
   "source": [
    "cold_counts <- bike_reduced %>%\n",
    "  filter(season == \"cold\") %>%\n",
    "  pull(cnt)\n",
    "mild_counts <- bike_reduced %>%\n",
    "  filter(season == \"mild\") %>%\n",
    "  pull(cnt)\n",
    "diff_in_mean_stat <- t.test(cold_counts, mild_counts, alternative = \"less\", var.equal = FALSE)      # conducting unpaired two sample t-test with unequal variances\n",
    "p_value_t_mean <- tibble(p_value. = diff_in_mean_stat$p.value)\n",
    "print(\"Table 6 Summary statistics for t-test\")\n",
    "diff_in_mean_stat\n",
    "print(\"Table 7 p-value for mean through t-test\")\n",
    "p_value_t_mean"
   ]
  },
  {
   "cell_type": "markdown",
   "metadata": {},
   "source": [
    "#### Bootstrapping Analysis for Location Parameter (Mean)\n",
    "\n",
    "We set a seed to make sure our result is reproducible and take 1000 Bootstrap samples to create an approximation of the sampling distribution, and produce a table of summary statistics and visualization."
   ]
  },
  {
   "cell_type": "code",
   "execution_count": 156,
   "metadata": {},
   "outputs": [
    {
     "name": "stderr",
     "output_type": "stream",
     "text": [
      "Dropping unused factor levels c(\"3\", \"4\") from the supplied explanatory variable 'season'.\n",
      "\n"
     ]
    },
    {
     "name": "stdout",
     "output_type": "stream",
     "text": [
      "[1] \"Table 8 Summary statistics of bootstrapping for mean\"\n"
     ]
    },
    {
     "data": {
      "text/html": [
       "<table class=\"dataframe\">\n",
       "<caption>A tibble: 1 × 3</caption>\n",
       "<thead>\n",
       "\t<tr><th scope=col>median</th><th scope=col>mean</th><th scope=col>standard_deviation</th></tr>\n",
       "\t<tr><th scope=col>&lt;dbl&gt;</th><th scope=col>&lt;dbl&gt;</th><th scope=col>&lt;dbl&gt;</th></tr>\n",
       "</thead>\n",
       "<tbody>\n",
       "\t<tr><td>2390.694</td><td>2394.825</td><td>164.1392</td></tr>\n",
       "</tbody>\n",
       "</table>\n"
      ],
      "text/latex": [
       "A tibble: 1 × 3\n",
       "\\begin{tabular}{lll}\n",
       " median & mean & standard\\_deviation\\\\\n",
       " <dbl> & <dbl> & <dbl>\\\\\n",
       "\\hline\n",
       "\t 2390.694 & 2394.825 & 164.1392\\\\\n",
       "\\end{tabular}\n"
      ],
      "text/markdown": [
       "\n",
       "A tibble: 1 × 3\n",
       "\n",
       "| median &lt;dbl&gt; | mean &lt;dbl&gt; | standard_deviation &lt;dbl&gt; |\n",
       "|---|---|---|\n",
       "| 2390.694 | 2394.825 | 164.1392 |\n",
       "\n"
      ],
      "text/plain": [
       "  median   mean     standard_deviation\n",
       "1 2390.694 2394.825 164.1392          "
      ]
     },
     "metadata": {},
     "output_type": "display_data"
    },
    {
     "name": "stdout",
     "output_type": "stream",
     "text": [
      "[1] \"Table 9 95% confidence interval of bootstrapping result for mean\"\n"
     ]
    },
    {
     "data": {
      "text/html": [
       "<table class=\"dataframe\">\n",
       "<caption>A tibble: 1 × 2</caption>\n",
       "<thead>\n",
       "\t<tr><th scope=col>lower_ci</th><th scope=col>upper_ci</th></tr>\n",
       "\t<tr><th scope=col>&lt;dbl&gt;</th><th scope=col>&lt;dbl&gt;</th></tr>\n",
       "</thead>\n",
       "<tbody>\n",
       "\t<tr><td>2072.236</td><td>2708.195</td></tr>\n",
       "</tbody>\n",
       "</table>\n"
      ],
      "text/latex": [
       "A tibble: 1 × 2\n",
       "\\begin{tabular}{ll}\n",
       " lower\\_ci & upper\\_ci\\\\\n",
       " <dbl> & <dbl>\\\\\n",
       "\\hline\n",
       "\t 2072.236 & 2708.195\\\\\n",
       "\\end{tabular}\n"
      ],
      "text/markdown": [
       "\n",
       "A tibble: 1 × 2\n",
       "\n",
       "| lower_ci &lt;dbl&gt; | upper_ci &lt;dbl&gt; |\n",
       "|---|---|\n",
       "| 2072.236 | 2708.195 |\n",
       "\n"
      ],
      "text/plain": [
       "  lower_ci upper_ci\n",
       "1 2072.236 2708.195"
      ]
     },
     "metadata": {},
     "output_type": "display_data"
    },
    {
     "data": {
      "image/png": "[encoded data removed]",
      "text/plain": [
       "plot without title"
      ]
     },
     "metadata": {
      "image/png": {
       "height": 360,
       "width": 600
      }
     },
     "output_type": "display_data"
    }
   ],
   "source": [
    "set.seed(1234)\n",
    "\n",
    "bootstrap_dist = bike_reduced %>% \n",
    "    specify(formula = cnt ~ season) %>% \n",
    "    generate(reps = 1000, type = \"bootstrap\") %>% \n",
    "    calculate(stat = \"diff in means\", order = c(\"mild\", \"cold\"))\n",
    "\n",
    "bootstrap_ci = bootstrap_dist %>% \n",
    "    get_ci(0.95, type = \"percentile\")\n",
    "\n",
    "bootstrap_summary <- bootstrap_dist %>% \n",
    "    summarise(median = median(stat), mean = mean(stat), standard_deviation = sd(stat))\n",
    "\n",
    "print(\"Table 8 Summary statistics of bootstrapping for mean\")\n",
    "bootstrap_summary\n",
    "print(\"Table 9 95% confidence interval of bootstrapping result for mean\")\n",
    "bootstrap_ci\n",
    "\n",
    "bootstrap_dist_graph <- visualize(bootstrap_dist) + \n",
    "    shade_ci(endpoints = bootstrap_ci) + \n",
    "    labs(x = \"Sample Difference in Means\", y = \"Frequency\", \n",
    "         title = \"Bootstrap Distribution of Difference in Means\",subtitle = \"Figure 3\") + \n",
    "    theme(text = element_text(size = 20))\n",
    "\n",
    "bootstrap_dist_graph"
   ]
  },
  {
   "cell_type": "markdown",
   "metadata": {},
   "source": [
    "We can now use the bootstrap distribution to test against the null hypothesis and produce the p-value."
   ]
  },
  {
   "cell_type": "code",
   "execution_count": 157,
   "metadata": {},
   "outputs": [
    {
     "name": "stderr",
     "output_type": "stream",
     "text": [
      "Dropping unused factor levels c(\"3\", \"4\") from the supplied explanatory variable 'season'.\n",
      "\n",
      "Warning message:\n",
      "“Parameter values are not specified when testing that two variables are independent.”\n",
      "Warning message:\n",
      "“Please be cautious in reporting a p-value of 0. This result is an approximation based on the number of `reps` chosen in the `generate()` step. See `?get_p_value()` for more information.”\n"
     ]
    },
    {
     "name": "stdout",
     "output_type": "stream",
     "text": [
      "[1] \"Table 10 P-value for mean\"\n"
     ]
    },
    {
     "data": {
      "text/html": [
       "<table class=\"dataframe\">\n",
       "<caption>A tibble: 1 × 1</caption>\n",
       "<thead>\n",
       "\t<tr><th scope=col>p_value</th></tr>\n",
       "\t<tr><th scope=col>&lt;dbl&gt;</th></tr>\n",
       "</thead>\n",
       "<tbody>\n",
       "\t<tr><td>0</td></tr>\n",
       "</tbody>\n",
       "</table>\n"
      ],
      "text/latex": [
       "A tibble: 1 × 1\n",
       "\\begin{tabular}{l}\n",
       " p\\_value\\\\\n",
       " <dbl>\\\\\n",
       "\\hline\n",
       "\t 0\\\\\n",
       "\\end{tabular}\n"
      ],
      "text/markdown": [
       "\n",
       "A tibble: 1 × 1\n",
       "\n",
       "| p_value &lt;dbl&gt; |\n",
       "|---|\n",
       "| 0 |\n",
       "\n"
      ],
      "text/plain": [
       "  p_value\n",
       "1 0      "
      ]
     },
     "metadata": {},
     "output_type": "display_data"
    },
    {
     "name": "stdout",
     "output_type": "stream",
     "text": [
      "[1] \"Table 11 95% confidence interval of hypoethesis test for mean\"\n"
     ]
    },
    {
     "data": {
      "text/html": [
       "<table class=\"dataframe\">\n",
       "<caption>A tibble: 1 × 2</caption>\n",
       "<thead>\n",
       "\t<tr><th scope=col>lower_ci</th><th scope=col>upper_ci</th></tr>\n",
       "\t<tr><th scope=col>&lt;dbl&gt;</th><th scope=col>&lt;dbl&gt;</th></tr>\n",
       "</thead>\n",
       "<tbody>\n",
       "\t<tr><td>-394.7946</td><td>391.7279</td></tr>\n",
       "</tbody>\n",
       "</table>\n"
      ],
      "text/latex": [
       "A tibble: 1 × 2\n",
       "\\begin{tabular}{ll}\n",
       " lower\\_ci & upper\\_ci\\\\\n",
       " <dbl> & <dbl>\\\\\n",
       "\\hline\n",
       "\t -394.7946 & 391.7279\\\\\n",
       "\\end{tabular}\n"
      ],
      "text/markdown": [
       "\n",
       "A tibble: 1 × 2\n",
       "\n",
       "| lower_ci &lt;dbl&gt; | upper_ci &lt;dbl&gt; |\n",
       "|---|---|\n",
       "| -394.7946 | 391.7279 |\n",
       "\n"
      ],
      "text/plain": [
       "  lower_ci  upper_ci\n",
       "1 -394.7946 391.7279"
      ]
     },
     "metadata": {},
     "output_type": "display_data"
    }
   ],
   "source": [
    "set.seed(1234)\n",
    "\n",
    "diff_in_mean_null_dist <- bike_reduced %>%\n",
    "    specify(formula = cnt ~ season) %>% \n",
    "    hypothesise(mu  = 0, null = \"independence\") %>% \n",
    "    generate(reps = 1000, type = \"permute\") %>% \n",
    "    calculate(stat=\"diff in means\", order = c(\"mild\", \"cold\"))\n",
    "\n",
    "p_value_mean <- get_p_value(diff_in_mean_null_dist, \n",
    "                      obs_stat = bike_summary$count_average[2] - bike_summary$count_average[1], \n",
    "                      direction = \"both\")\n",
    "\n",
    "bootstrap_ci <- diff_in_mean_null_dist %>% \n",
    "    get_ci(0.95, type = \"percentile\")\n",
    "\n",
    "print(\"Table 10 P-value for mean\")\n",
    "p_value_mean\n",
    "print(\"Table 11 95% confidence interval of hypoethesis test for mean\")\n",
    "bootstrap_ci"
   ]
  },
  {
   "cell_type": "markdown",
   "metadata": {},
   "source": [
    "#### Analysis for Scale Parameter (Standard Deviation)\n",
    "\n",
    "Since we are interested in comparing the difference in standard deviation of the two groups, the most appropriate test would be an one-sided F-test for difference in variance."
   ]
  },
  {
   "cell_type": "code",
   "execution_count": 158,
   "metadata": {},
   "outputs": [
    {
     "name": "stdout",
     "output_type": "stream",
     "text": [
      "[1] \"Table 12 F-test statistics for standard deviation\"\n"
     ]
    },
    {
     "data": {
      "text/plain": [
       "\n",
       "\tF test to compare two variances\n",
       "\n",
       "data:  cnt by season\n",
       "F = 0.68137, num df = 180, denom df = 183, p-value = 0.005069\n",
       "alternative hypothesis: true ratio of variances is less than 1\n",
       "95 percent confidence interval:\n",
       " 0.0000000 0.8705077\n",
       "sample estimates:\n",
       "ratio of variances \n",
       "         0.6813655 \n"
      ]
     },
     "metadata": {},
     "output_type": "display_data"
    },
    {
     "name": "stdout",
     "output_type": "stream",
     "text": [
      "[1] \"Table 13 p-value for standard deviation\"\n"
     ]
    },
    {
     "data": {
      "text/html": [
       "<table class=\"dataframe\">\n",
       "<caption>A tibble: 1 × 1</caption>\n",
       "<thead>\n",
       "\t<tr><th scope=col>p_value.</th></tr>\n",
       "\t<tr><th scope=col>&lt;dbl&gt;</th></tr>\n",
       "</thead>\n",
       "<tbody>\n",
       "\t<tr><td>0.005068686</td></tr>\n",
       "</tbody>\n",
       "</table>\n"
      ],
      "text/latex": [
       "A tibble: 1 × 1\n",
       "\\begin{tabular}{l}\n",
       " p\\_value.\\\\\n",
       " <dbl>\\\\\n",
       "\\hline\n",
       "\t 0.005068686\\\\\n",
       "\\end{tabular}\n"
      ],
      "text/markdown": [
       "\n",
       "A tibble: 1 × 1\n",
       "\n",
       "| p_value. &lt;dbl&gt; |\n",
       "|---|\n",
       "| 0.005068686 |\n",
       "\n"
      ],
      "text/plain": [
       "  p_value.   \n",
       "1 0.005068686"
      ]
     },
     "metadata": {},
     "output_type": "display_data"
    }
   ],
   "source": [
    "diff_in_sd_stat <- var.test(cnt ~ season, bike_reduced, \n",
    "         alternative = \"less\")\n",
    "print(\"Table 12 F-test statistics for standard deviation\")\n",
    "diff_in_sd_stat\n",
    "p_value_sd <- tibble(p_value. = diff_in_sd_stat$p.value)\n",
    "print(\"Table 13 p-value for standard deviation\")\n",
    "p_value_sd"
   ]
  },
  {
   "cell_type": "markdown",
   "metadata": {},
   "source": [
    "### Discussion"
   ]
  },
  {
   "cell_type": "markdown",
   "metadata": {},
   "source": [
    "In this section, you’ll interpret the results you obtained in the previous section with respect to the main question/goal of your project.\n",
    "\n",
    "Summarize what you found, and the implications/impact of your findings.\n",
    "\n",
    "If relevant, discuss whether your results were what you expected to find.\n",
    "\n",
    "Discuss future questions/research this study could lead to."
   ]
  },
  {
   "cell_type": "markdown",
   "metadata": {},
   "source": [
    "### References"
   ]
  },
  {
   "cell_type": "markdown",
   "metadata": {},
   "source": [
    "Capital Bikeshare. (n.d.). The History of Capital Bikeshare. Capital Bikeshare. Retrieved March 5,\n",
    "2022, from\n",
    "<br>&nbsp;&nbsp;&nbsp;&nbsp;&nbsp;&nbsp;https://ride.capitalbikeshare.com/about \n",
    "\n",
    "Gebhart, K., & Noland, R. B. (2014). The impact of weather conditions on bikeshare trips in Washington, DC. Transportation, \n",
    "<br>&nbsp;&nbsp;&nbsp;&nbsp;&nbsp;&nbsp;41(6), 1205–1225. https://doi.org/10.1007/s11116-014-9540-7\n",
    "\n",
    "Institute for Operations Research and the Management Sciences. (2020, January 6). Maximizing bike-share ridership: New \n",
    "<br>&nbsp;&nbsp;&nbsp;&nbsp;&nbsp;&nbsp;research says it's all about location: 10% increase in bike-availability levels increases ridership by 12%. ScienceDaily. \n",
    "<br>&nbsp;&nbsp;&nbsp;&nbsp;&nbsp;&nbsp;Retrieved March 4, 2022 from www.sciencedaily.com/releases/2020/01/200106141616.htm\n",
    "\n",
    "Walker, A. (2019, December 16). How bike share became the decade's Biggest Transit Success Story. Curbed. Retrieved <br>&nbsp;&nbsp;&nbsp;&nbsp;&nbsp;&nbsp;April 4, 2022, from https://archive.curbed.com/2019/12/16/20864145/bike-share-citi-bike-jump-uber\n",
    "\n",
    "Weather Spark. (n.d.). Climate and Average Weather Year Round in Washington, D.C. weatherspark.com. Retrieved April 4, <br>&nbsp;&nbsp;&nbsp;&nbsp;&nbsp;&nbsp;2022, from https://weatherspark.com/y/20957/Average-Weather-in-Washington-D.C.;-United-States-Year-Round"
   ]
  }
 ],
 "metadata": {
  "kernelspec": {
   "display_name": "R",
   "language": "R",
   "name": "ir"
  },
  "language_info": {
   "codemirror_mode": "r",
   "file_extension": ".r",
   "mimetype": "text/x-r-source",
   "name": "R",
   "pygments_lexer": "r",
   "version": "4.1.2"
  }
 },
 "nbformat": 4,
 "nbformat_minor": 4
}
